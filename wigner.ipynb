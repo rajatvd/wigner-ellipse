{
 "cells": [
  {
   "cell_type": "code",
   "execution_count": null,
   "id": "b35fb09b-bc9c-4357-b538-dc7884717d66",
   "metadata": {},
   "outputs": [],
   "source": []
  }
 ],
 "metadata": {
  "jupytext": {
   "formats": "ipynb,auto:hydrogen"
  },
  "kernelspec": {
   "display_name": "wigner-ellipse",
   "language": "python",
   "name": "wigner-ellipse"
  },
  "language_info": {
   "codemirror_mode": {
    "name": "ipython",
    "version": 3
   },
   "file_extension": ".py",
   "mimetype": "text/x-python",
   "name": "python",
   "nbconvert_exporter": "python",
   "pygments_lexer": "ipython3",
   "version": "3.10.13"
  }
 },
 "nbformat": 4,
 "nbformat_minor": 5
}
