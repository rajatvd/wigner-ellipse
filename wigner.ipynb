{
 "cells": [
  {
   "cell_type": "code",
   "execution_count": null,
   "id": "9002e7c6",
   "metadata": {
    "lines_to_next_cell": 1
   },
   "outputs": [],
   "source": [
    "import numpy as np\n",
    "import matplotlib.pyplot as plt\n",
    "\n",
    "# make default font size larger\n",
    "plt.rcParams.update({\"font.size\": 32})\n",
    "\n",
    "# make default line width larger\n",
    "plt.rcParams.update({\"axes.linewidth\": 4})\n",
    "plt.rcParams.update({\"lines.linewidth\": 4})\n",
    "plt.rcParams.update({\"grid.linewidth\": 4})\n",
    "\n",
    "# make default figure size larger\n",
    "plt.rcParams.update({\"figure.figsize\": (10, 8)})\n",
    "\n",
    "# make default markers larger\n",
    "plt.rcParams.update({\"lines.markersize\": 20})"
   ]
  },
  {
   "cell_type": "markdown",
   "id": "b0f6ec4c-cf9c-4125-9087-3584b5968b3c",
   "metadata": {
    "title": "markdown"
   },
   "source": [
    "# # Wigner's semicircle law"
   ]
  },
  {
   "cell_type": "code",
   "execution_count": null,
   "id": "6115083b",
   "metadata": {},
   "outputs": [],
   "source": [
    "def sample_matrix(N=50, num_samples=1000, tau=0.5):\n",
    "    \"\"\"\n",
    "    Generate num_samples number of random NxN asymmetric matrix.\n",
    "\n",
    "    The correlation between J_ij and J_ji is tau.\n",
    "    The mean of each element is 0.\n",
    "    The variance of each element is 1.\n",
    "\n",
    "    Returns:\n",
    "        J: np.ndarray of shape (N, N, num_samples)\n",
    "        mean_diff: maximum difference between the mean of J and 0\n",
    "        std_diff: maximum difference between the std of J and 1\n",
    "        corr_diff: maximum difference between the correlation of J and tau\n",
    "        tol: tolerance for the differencek\n",
    "    \"\"\"\n",
    "    # generate a random matrix\n",
    "    A = np.random.randn(N, N, num_samples)\n",
    "    At = np.transpose(A, (1, 0, 2))\n",
    "\n",
    "    # some quick maffs to get the desired correlation\n",
    "    a = np.sqrt((1 + tau))\n",
    "    b = np.sqrt((1 - tau))\n",
    "    alpha = 0.5 * (a + b)\n",
    "    beta = 0.5 * (a - b)\n",
    "    J = alpha * A + beta * At\n",
    "\n",
    "    # resample the diagonal elements\n",
    "    J[np.diag_indices(N)] = np.random.randn(N, num_samples)\n",
    "\n",
    "    # compute empirical statistics\n",
    "    Jt = np.transpose(J, (1, 0, 2))\n",
    "    means = np.mean(J, axis=2)\n",
    "    stds = np.mean(J * J, axis=2)\n",
    "    corrs = np.mean(J * Jt, axis=2)\n",
    "    expected = tau + np.eye(N) * (1 - tau)\n",
    "\n",
    "    tol = 10 * np.sqrt(1 / num_samples)\n",
    "    mean_diff = np.max(np.abs(means))\n",
    "    std_diff = np.max(np.abs(stds - 1))\n",
    "    corr_diff = np.max(np.abs(corrs - expected))\n",
    "\n",
    "    print(\n",
    "        f\"mean_diff={mean_diff:.2e}, std_diff={std_diff:.2e}, \"\n",
    "        + f\"corr_diff={corr_diff:.2e}, tol={tol:.2e}\"\n",
    "    )\n",
    "\n",
    "    return J, mean_diff, std_diff, corr_diff, tol"
   ]
  },
  {
   "cell_type": "code",
   "execution_count": null,
   "id": "01343f9c",
   "metadata": {
    "lines_to_next_cell": 0
   },
   "outputs": [],
   "source": [
    "# check stats\n",
    "mean_diffs = []\n",
    "std_diffs = []\n",
    "corr_diffs = []\n",
    "tols = []\n",
    "\n",
    "N = 50\n",
    "tau = 0.5\n",
    "num_samples = np.logspace(1, 4, 10).astype(int)\n",
    "for num_sample in num_samples:\n",
    "    print(f\"Checking num_samples={num_sample}\")\n",
    "    J, mean_diff, std_diff, corr_diff, tol = sample_matrix(\n",
    "        num_samples=num_sample,\n",
    "        N=N,\n",
    "        tau=tau,\n",
    "    )\n",
    "    mean_diffs.append(mean_diff)\n",
    "    std_diffs.append(std_diff)\n",
    "    corr_diffs.append(corr_diff)\n",
    "    tols.append(tol)\n",
    "\n",
    "plt.figure()\n",
    "plt.grid()\n",
    "plt.plot(num_samples, mean_diffs, \"o-\", label=\"mean\")\n",
    "plt.plot(num_samples, std_diffs, \"o-\", label=\"std\")\n",
    "plt.plot(num_samples, corr_diffs, \"o-\", label=\"corr\")\n",
    "plt.plot(num_samples, tols, \"o-\", label=\"c/sqrt(num_samples)\")\n",
    "plt.xscale(\"log\")\n",
    "plt.yscale(\"log\")\n",
    "plt.xlabel(\"num_samples\")\n",
    "plt.ylabel(\"max difference\")\n",
    "plt.title(f\"N={N}, tau={tau}\")\n",
    "# plot legend outside of the plot\n",
    "plt.legend(loc=\"center left\", bbox_to_anchor=(1, 0.5))\n",
    "plt.show()"
   ]
  },
  {
   "cell_type": "code",
   "execution_count": null,
   "id": "b35fb09b-bc9c-4357-b538-dc7884717d66",
   "metadata": {},
   "outputs": [],
   "source": []
  }
 ],
 "metadata": {
  "jupytext": {
   "formats": "ipynb,py:hydrogen"
  },
  "kernelspec": {
   "display_name": "wigner-ellipse",
   "language": "python",
   "name": "wigner-ellipse"
  },
  "language_info": {
   "codemirror_mode": {
    "name": "ipython",
    "version": 3
   },
   "file_extension": ".py",
   "mimetype": "text/x-python",
   "name": "python",
   "nbconvert_exporter": "python",
   "pygments_lexer": "ipython3",
   "version": "3.10.13"
  }
 },
 "nbformat": 4,
 "nbformat_minor": 5
}
